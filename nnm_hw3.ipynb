{
  "nbformat": 4,
  "nbformat_minor": 0,
  "metadata": {
    "colab": {
      "name": "nnm_hw3.ipynb",
      "provenance": [],
      "collapsed_sections": []
    },
    "kernelspec": {
      "name": "python3",
      "display_name": "Python 3"
    },
    "language_info": {
      "name": "python"
    },
    "accelerator": "GPU"
  },
  "cells": [
    {
      "cell_type": "markdown",
      "source": [
        "# дз 3 по нейросетям"
      ],
      "metadata": {
        "id": "ipWK13H1DpFP"
      }
    },
    {
      "cell_type": "code",
      "execution_count": 5,
      "metadata": {
        "id": "0tS5nXV-TfiS"
      },
      "outputs": [],
      "source": [
        "import argparse\n",
        "import torch\n",
        "import numpy as np\n",
        "from torch import nn, optim\n",
        "from torch.utils.data import Dataset, DataLoader\n",
        "import pandas as pd\n",
        "from collections import Counter"
      ]
    },
    {
      "cell_type": "markdown",
      "source": [
        "Сейчас достанем нужные даные"
      ],
      "metadata": {
        "id": "tKHDShggo7Ih"
      }
    },
    {
      "cell_type": "code",
      "source": [
        "data = pd.read_csv('Fake.csv', delimiter=',')"
      ],
      "metadata": {
        "id": "j39PLtvsTjfq"
      },
      "execution_count": 6,
      "outputs": []
    },
    {
      "cell_type": "code",
      "source": [
        "data"
      ],
      "metadata": {
        "colab": {
          "base_uri": "https://localhost:8080/",
          "height": 467
        },
        "id": "4zAoampnlvli",
        "outputId": "1e4cc6db-c4aa-43c5-ac65-73d8bea623d1"
      },
      "execution_count": 7,
      "outputs": [
        {
          "output_type": "execute_result",
          "data": {
            "text/html": [
              "\n",
              "  <div id=\"df-88f71244-8228-4c7a-88d3-a5fb0f974219\">\n",
              "    <div class=\"colab-df-container\">\n",
              "      <div>\n",
              "<style scoped>\n",
              "    .dataframe tbody tr th:only-of-type {\n",
              "        vertical-align: middle;\n",
              "    }\n",
              "\n",
              "    .dataframe tbody tr th {\n",
              "        vertical-align: top;\n",
              "    }\n",
              "\n",
              "    .dataframe thead th {\n",
              "        text-align: right;\n",
              "    }\n",
              "</style>\n",
              "<table border=\"1\" class=\"dataframe\">\n",
              "  <thead>\n",
              "    <tr style=\"text-align: right;\">\n",
              "      <th></th>\n",
              "      <th>title</th>\n",
              "      <th>text</th>\n",
              "      <th>subject</th>\n",
              "      <th>date</th>\n",
              "    </tr>\n",
              "  </thead>\n",
              "  <tbody>\n",
              "    <tr>\n",
              "      <th>0</th>\n",
              "      <td>Donald Trump Sends Out Embarrassing New Year’...</td>\n",
              "      <td>Donald Trump just couldn t wish all Americans ...</td>\n",
              "      <td>News</td>\n",
              "      <td>December 31, 2017</td>\n",
              "    </tr>\n",
              "    <tr>\n",
              "      <th>1</th>\n",
              "      <td>Drunk Bragging Trump Staffer Started Russian ...</td>\n",
              "      <td>House Intelligence Committee Chairman Devin Nu...</td>\n",
              "      <td>News</td>\n",
              "      <td>December 31, 2017</td>\n",
              "    </tr>\n",
              "    <tr>\n",
              "      <th>2</th>\n",
              "      <td>Sheriff David Clarke Becomes An Internet Joke...</td>\n",
              "      <td>On Friday, it was revealed that former Milwauk...</td>\n",
              "      <td>News</td>\n",
              "      <td>December 30, 2017</td>\n",
              "    </tr>\n",
              "    <tr>\n",
              "      <th>3</th>\n",
              "      <td>Trump Is So Obsessed He Even Has Obama’s Name...</td>\n",
              "      <td>On Christmas day, Donald Trump announced that ...</td>\n",
              "      <td>News</td>\n",
              "      <td>December 29, 2017</td>\n",
              "    </tr>\n",
              "    <tr>\n",
              "      <th>4</th>\n",
              "      <td>Pope Francis Just Called Out Donald Trump Dur...</td>\n",
              "      <td>Pope Francis used his annual Christmas Day mes...</td>\n",
              "      <td>News</td>\n",
              "      <td>December 25, 2017</td>\n",
              "    </tr>\n",
              "    <tr>\n",
              "      <th>...</th>\n",
              "      <td>...</td>\n",
              "      <td>...</td>\n",
              "      <td>...</td>\n",
              "      <td>...</td>\n",
              "    </tr>\n",
              "    <tr>\n",
              "      <th>23476</th>\n",
              "      <td>McPain: John McCain Furious That Iran Treated ...</td>\n",
              "      <td>21st Century Wire says As 21WIRE reported earl...</td>\n",
              "      <td>Middle-east</td>\n",
              "      <td>January 16, 2016</td>\n",
              "    </tr>\n",
              "    <tr>\n",
              "      <th>23477</th>\n",
              "      <td>JUSTICE? Yahoo Settles E-mail Privacy Class-ac...</td>\n",
              "      <td>21st Century Wire says It s a familiar theme. ...</td>\n",
              "      <td>Middle-east</td>\n",
              "      <td>January 16, 2016</td>\n",
              "    </tr>\n",
              "    <tr>\n",
              "      <th>23478</th>\n",
              "      <td>Sunnistan: US and Allied ‘Safe Zone’ Plan to T...</td>\n",
              "      <td>Patrick Henningsen  21st Century WireRemember ...</td>\n",
              "      <td>Middle-east</td>\n",
              "      <td>January 15, 2016</td>\n",
              "    </tr>\n",
              "    <tr>\n",
              "      <th>23479</th>\n",
              "      <td>How to Blow $700 Million: Al Jazeera America F...</td>\n",
              "      <td>21st Century Wire says Al Jazeera America will...</td>\n",
              "      <td>Middle-east</td>\n",
              "      <td>January 14, 2016</td>\n",
              "    </tr>\n",
              "    <tr>\n",
              "      <th>23480</th>\n",
              "      <td>10 U.S. Navy Sailors Held by Iranian Military ...</td>\n",
              "      <td>21st Century Wire says As 21WIRE predicted in ...</td>\n",
              "      <td>Middle-east</td>\n",
              "      <td>January 12, 2016</td>\n",
              "    </tr>\n",
              "  </tbody>\n",
              "</table>\n",
              "<p>23481 rows × 4 columns</p>\n",
              "</div>\n",
              "      <button class=\"colab-df-convert\" onclick=\"convertToInteractive('df-88f71244-8228-4c7a-88d3-a5fb0f974219')\"\n",
              "              title=\"Convert this dataframe to an interactive table.\"\n",
              "              style=\"display:none;\">\n",
              "        \n",
              "  <svg xmlns=\"http://www.w3.org/2000/svg\" height=\"24px\"viewBox=\"0 0 24 24\"\n",
              "       width=\"24px\">\n",
              "    <path d=\"M0 0h24v24H0V0z\" fill=\"none\"/>\n",
              "    <path d=\"M18.56 5.44l.94 2.06.94-2.06 2.06-.94-2.06-.94-.94-2.06-.94 2.06-2.06.94zm-11 1L8.5 8.5l.94-2.06 2.06-.94-2.06-.94L8.5 2.5l-.94 2.06-2.06.94zm10 10l.94 2.06.94-2.06 2.06-.94-2.06-.94-.94-2.06-.94 2.06-2.06.94z\"/><path d=\"M17.41 7.96l-1.37-1.37c-.4-.4-.92-.59-1.43-.59-.52 0-1.04.2-1.43.59L10.3 9.45l-7.72 7.72c-.78.78-.78 2.05 0 2.83L4 21.41c.39.39.9.59 1.41.59.51 0 1.02-.2 1.41-.59l7.78-7.78 2.81-2.81c.8-.78.8-2.07 0-2.86zM5.41 20L4 18.59l7.72-7.72 1.47 1.35L5.41 20z\"/>\n",
              "  </svg>\n",
              "      </button>\n",
              "      \n",
              "  <style>\n",
              "    .colab-df-container {\n",
              "      display:flex;\n",
              "      flex-wrap:wrap;\n",
              "      gap: 12px;\n",
              "    }\n",
              "\n",
              "    .colab-df-convert {\n",
              "      background-color: #E8F0FE;\n",
              "      border: none;\n",
              "      border-radius: 50%;\n",
              "      cursor: pointer;\n",
              "      display: none;\n",
              "      fill: #1967D2;\n",
              "      height: 32px;\n",
              "      padding: 0 0 0 0;\n",
              "      width: 32px;\n",
              "    }\n",
              "\n",
              "    .colab-df-convert:hover {\n",
              "      background-color: #E2EBFA;\n",
              "      box-shadow: 0px 1px 2px rgba(60, 64, 67, 0.3), 0px 1px 3px 1px rgba(60, 64, 67, 0.15);\n",
              "      fill: #174EA6;\n",
              "    }\n",
              "\n",
              "    [theme=dark] .colab-df-convert {\n",
              "      background-color: #3B4455;\n",
              "      fill: #D2E3FC;\n",
              "    }\n",
              "\n",
              "    [theme=dark] .colab-df-convert:hover {\n",
              "      background-color: #434B5C;\n",
              "      box-shadow: 0px 1px 3px 1px rgba(0, 0, 0, 0.15);\n",
              "      filter: drop-shadow(0px 1px 2px rgba(0, 0, 0, 0.3));\n",
              "      fill: #FFFFFF;\n",
              "    }\n",
              "  </style>\n",
              "\n",
              "      <script>\n",
              "        const buttonEl =\n",
              "          document.querySelector('#df-88f71244-8228-4c7a-88d3-a5fb0f974219 button.colab-df-convert');\n",
              "        buttonEl.style.display =\n",
              "          google.colab.kernel.accessAllowed ? 'block' : 'none';\n",
              "\n",
              "        async function convertToInteractive(key) {\n",
              "          const element = document.querySelector('#df-88f71244-8228-4c7a-88d3-a5fb0f974219');\n",
              "          const dataTable =\n",
              "            await google.colab.kernel.invokeFunction('convertToInteractive',\n",
              "                                                     [key], {});\n",
              "          if (!dataTable) return;\n",
              "\n",
              "          const docLinkHtml = 'Like what you see? Visit the ' +\n",
              "            '<a target=\"_blank\" href=https://colab.research.google.com/notebooks/data_table.ipynb>data table notebook</a>'\n",
              "            + ' to learn more about interactive tables.';\n",
              "          element.innerHTML = '';\n",
              "          dataTable['output_type'] = 'display_data';\n",
              "          await google.colab.output.renderOutput(dataTable, element);\n",
              "          const docLink = document.createElement('div');\n",
              "          docLink.innerHTML = docLinkHtml;\n",
              "          element.appendChild(docLink);\n",
              "        }\n",
              "      </script>\n",
              "    </div>\n",
              "  </div>\n",
              "  "
            ],
            "text/plain": [
              "                                                   title  ...               date\n",
              "0       Donald Trump Sends Out Embarrassing New Year’...  ...  December 31, 2017\n",
              "1       Drunk Bragging Trump Staffer Started Russian ...  ...  December 31, 2017\n",
              "2       Sheriff David Clarke Becomes An Internet Joke...  ...  December 30, 2017\n",
              "3       Trump Is So Obsessed He Even Has Obama’s Name...  ...  December 29, 2017\n",
              "4       Pope Francis Just Called Out Donald Trump Dur...  ...  December 25, 2017\n",
              "...                                                  ...  ...                ...\n",
              "23476  McPain: John McCain Furious That Iran Treated ...  ...   January 16, 2016\n",
              "23477  JUSTICE? Yahoo Settles E-mail Privacy Class-ac...  ...   January 16, 2016\n",
              "23478  Sunnistan: US and Allied ‘Safe Zone’ Plan to T...  ...   January 15, 2016\n",
              "23479  How to Blow $700 Million: Al Jazeera America F...  ...   January 14, 2016\n",
              "23480  10 U.S. Navy Sailors Held by Iranian Military ...  ...   January 12, 2016\n",
              "\n",
              "[23481 rows x 4 columns]"
            ]
          },
          "metadata": {},
          "execution_count": 7
        }
      ]
    },
    {
      "cell_type": "markdown",
      "source": [
        "Посмотрим на все и сделаем предобработку"
      ],
      "metadata": {
        "id": "WQex7bdgo-5k"
      }
    },
    {
      "cell_type": "code",
      "source": [
        "s = []\n",
        "for i in data['subject']:\n",
        "  if i not in s:\n",
        "    s.append(i)\n",
        "print(s)"
      ],
      "metadata": {
        "colab": {
          "base_uri": "https://localhost:8080/"
        },
        "id": "NHzKFL0SVzly",
        "outputId": "1c7dd44f-5983-489c-aadc-659e1cef31c6"
      },
      "execution_count": 8,
      "outputs": [
        {
          "output_type": "stream",
          "name": "stdout",
          "text": [
            "['News', 'politics', 'Government News', 'left-news', 'US_News', 'Middle-east']\n"
          ]
        }
      ]
    },
    {
      "cell_type": "code",
      "source": [
        "import nltk\n",
        "nltk.download('punkt')\n",
        "from nltk.tokenize import word_tokenize"
      ],
      "metadata": {
        "colab": {
          "base_uri": "https://localhost:8080/"
        },
        "id": "s5mvjeU3j45Y",
        "outputId": "d7b16773-70fa-4b91-8b34-0e2c216ed5f2"
      },
      "execution_count": 9,
      "outputs": [
        {
          "output_type": "stream",
          "name": "stdout",
          "text": [
            "[nltk_data] Downloading package punkt to /root/nltk_data...\n",
            "[nltk_data]   Unzipping tokenizers/punkt.zip.\n"
          ]
        }
      ]
    },
    {
      "cell_type": "code",
      "source": [
        "t = []\n",
        "for i in data['text']:\n",
        "  if type(i) not in t:\n",
        "    t.append(type(i))\n",
        "t"
      ],
      "metadata": {
        "colab": {
          "base_uri": "https://localhost:8080/"
        },
        "id": "EfzFPKk3k4Jg",
        "outputId": "9a62aca1-8979-46d1-c1b2-2ff9821a56f3"
      },
      "execution_count": 10,
      "outputs": [
        {
          "output_type": "execute_result",
          "data": {
            "text/plain": [
              "[str]"
            ]
          },
          "metadata": {},
          "execution_count": 10
        }
      ]
    },
    {
      "cell_type": "code",
      "source": [
        "titles = data['title'].tolist()"
      ],
      "metadata": {
        "id": "gkDqUTAVtilE"
      },
      "execution_count": 11,
      "outputs": []
    },
    {
      "cell_type": "code",
      "source": [
        "texts = data['text'].tolist()"
      ],
      "metadata": {
        "id": "NmVXvQA8u0yE"
      },
      "execution_count": 12,
      "outputs": []
    },
    {
      "cell_type": "code",
      "source": [
        "ttexts = []\n",
        "for text in texts:\n",
        "  ttexts.append(word_tokenize(text))"
      ],
      "metadata": {
        "id": "a_njcLYbu7-U"
      },
      "execution_count": 13,
      "outputs": []
    },
    {
      "cell_type": "code",
      "source": [
        "max=0\n",
        "for i in ttexts:\n",
        "  if len(i) > max:\n",
        "    max=len(i)\n",
        "max"
      ],
      "metadata": {
        "colab": {
          "base_uri": "https://localhost:8080/"
        },
        "id": "qfeqEpomvNgb",
        "outputId": "ccb12596-a5fc-4b9c-9640-7fc00085c95d"
      },
      "execution_count": 14,
      "outputs": [
        {
          "output_type": "execute_result",
          "data": {
            "text/plain": [
              "9939"
            ]
          },
          "metadata": {},
          "execution_count": 14
        }
      ]
    },
    {
      "cell_type": "code",
      "source": [
        "ts = []\n",
        "for i in ttexts:\n",
        "  a = []\n",
        "  for j in i:\n",
        "    a.append(j.lower())\n",
        "  ts.append(a)\n",
        "\n"
      ],
      "metadata": {
        "id": "xuWTShhozvX_"
      },
      "execution_count": 15,
      "outputs": []
    },
    {
      "cell_type": "code",
      "source": [
        "texts = [i[:1000] for i in ts]"
      ],
      "metadata": {
        "id": "wqxSWn320PWm"
      },
      "execution_count": 16,
      "outputs": []
    },
    {
      "cell_type": "markdown",
      "source": [
        "Создадим новый датафрейм из того что нужно"
      ],
      "metadata": {
        "id": "68F4hWTbpFXd"
      }
    },
    {
      "cell_type": "code",
      "source": [
        "df = pd.DataFrame({'subj': data['subject'].tolist(), 'texts': pd.Series(texts)})"
      ],
      "metadata": {
        "id": "M9ZuwC0FQ1RK"
      },
      "execution_count": 17,
      "outputs": []
    },
    {
      "cell_type": "code",
      "source": [
        "df"
      ],
      "metadata": {
        "colab": {
          "base_uri": "https://localhost:8080/",
          "height": 424
        },
        "id": "y4usZLtoSH_9",
        "outputId": "54970191-d9cb-489b-c3d8-005d069a9b1d"
      },
      "execution_count": 18,
      "outputs": [
        {
          "output_type": "execute_result",
          "data": {
            "text/html": [
              "\n",
              "  <div id=\"df-74410b25-4cd1-4d0a-90c5-212108ea57e5\">\n",
              "    <div class=\"colab-df-container\">\n",
              "      <div>\n",
              "<style scoped>\n",
              "    .dataframe tbody tr th:only-of-type {\n",
              "        vertical-align: middle;\n",
              "    }\n",
              "\n",
              "    .dataframe tbody tr th {\n",
              "        vertical-align: top;\n",
              "    }\n",
              "\n",
              "    .dataframe thead th {\n",
              "        text-align: right;\n",
              "    }\n",
              "</style>\n",
              "<table border=\"1\" class=\"dataframe\">\n",
              "  <thead>\n",
              "    <tr style=\"text-align: right;\">\n",
              "      <th></th>\n",
              "      <th>subj</th>\n",
              "      <th>texts</th>\n",
              "    </tr>\n",
              "  </thead>\n",
              "  <tbody>\n",
              "    <tr>\n",
              "      <th>0</th>\n",
              "      <td>News</td>\n",
              "      <td>[donald, trump, just, couldn, t, wish, all, am...</td>\n",
              "    </tr>\n",
              "    <tr>\n",
              "      <th>1</th>\n",
              "      <td>News</td>\n",
              "      <td>[house, intelligence, committee, chairman, dev...</td>\n",
              "    </tr>\n",
              "    <tr>\n",
              "      <th>2</th>\n",
              "      <td>News</td>\n",
              "      <td>[on, friday, ,, it, was, revealed, that, forme...</td>\n",
              "    </tr>\n",
              "    <tr>\n",
              "      <th>3</th>\n",
              "      <td>News</td>\n",
              "      <td>[on, christmas, day, ,, donald, trump, announc...</td>\n",
              "    </tr>\n",
              "    <tr>\n",
              "      <th>4</th>\n",
              "      <td>News</td>\n",
              "      <td>[pope, francis, used, his, annual, christmas, ...</td>\n",
              "    </tr>\n",
              "    <tr>\n",
              "      <th>...</th>\n",
              "      <td>...</td>\n",
              "      <td>...</td>\n",
              "    </tr>\n",
              "    <tr>\n",
              "      <th>23476</th>\n",
              "      <td>Middle-east</td>\n",
              "      <td>[21st, century, wire, says, as, 21wire, report...</td>\n",
              "    </tr>\n",
              "    <tr>\n",
              "      <th>23477</th>\n",
              "      <td>Middle-east</td>\n",
              "      <td>[21st, century, wire, says, it, s, a, familiar...</td>\n",
              "    </tr>\n",
              "    <tr>\n",
              "      <th>23478</th>\n",
              "      <td>Middle-east</td>\n",
              "      <td>[patrick, henningsen, 21st, century, wireremem...</td>\n",
              "    </tr>\n",
              "    <tr>\n",
              "      <th>23479</th>\n",
              "      <td>Middle-east</td>\n",
              "      <td>[21st, century, wire, says, al, jazeera, ameri...</td>\n",
              "    </tr>\n",
              "    <tr>\n",
              "      <th>23480</th>\n",
              "      <td>Middle-east</td>\n",
              "      <td>[21st, century, wire, says, as, 21wire, predic...</td>\n",
              "    </tr>\n",
              "  </tbody>\n",
              "</table>\n",
              "<p>23481 rows × 2 columns</p>\n",
              "</div>\n",
              "      <button class=\"colab-df-convert\" onclick=\"convertToInteractive('df-74410b25-4cd1-4d0a-90c5-212108ea57e5')\"\n",
              "              title=\"Convert this dataframe to an interactive table.\"\n",
              "              style=\"display:none;\">\n",
              "        \n",
              "  <svg xmlns=\"http://www.w3.org/2000/svg\" height=\"24px\"viewBox=\"0 0 24 24\"\n",
              "       width=\"24px\">\n",
              "    <path d=\"M0 0h24v24H0V0z\" fill=\"none\"/>\n",
              "    <path d=\"M18.56 5.44l.94 2.06.94-2.06 2.06-.94-2.06-.94-.94-2.06-.94 2.06-2.06.94zm-11 1L8.5 8.5l.94-2.06 2.06-.94-2.06-.94L8.5 2.5l-.94 2.06-2.06.94zm10 10l.94 2.06.94-2.06 2.06-.94-2.06-.94-.94-2.06-.94 2.06-2.06.94z\"/><path d=\"M17.41 7.96l-1.37-1.37c-.4-.4-.92-.59-1.43-.59-.52 0-1.04.2-1.43.59L10.3 9.45l-7.72 7.72c-.78.78-.78 2.05 0 2.83L4 21.41c.39.39.9.59 1.41.59.51 0 1.02-.2 1.41-.59l7.78-7.78 2.81-2.81c.8-.78.8-2.07 0-2.86zM5.41 20L4 18.59l7.72-7.72 1.47 1.35L5.41 20z\"/>\n",
              "  </svg>\n",
              "      </button>\n",
              "      \n",
              "  <style>\n",
              "    .colab-df-container {\n",
              "      display:flex;\n",
              "      flex-wrap:wrap;\n",
              "      gap: 12px;\n",
              "    }\n",
              "\n",
              "    .colab-df-convert {\n",
              "      background-color: #E8F0FE;\n",
              "      border: none;\n",
              "      border-radius: 50%;\n",
              "      cursor: pointer;\n",
              "      display: none;\n",
              "      fill: #1967D2;\n",
              "      height: 32px;\n",
              "      padding: 0 0 0 0;\n",
              "      width: 32px;\n",
              "    }\n",
              "\n",
              "    .colab-df-convert:hover {\n",
              "      background-color: #E2EBFA;\n",
              "      box-shadow: 0px 1px 2px rgba(60, 64, 67, 0.3), 0px 1px 3px 1px rgba(60, 64, 67, 0.15);\n",
              "      fill: #174EA6;\n",
              "    }\n",
              "\n",
              "    [theme=dark] .colab-df-convert {\n",
              "      background-color: #3B4455;\n",
              "      fill: #D2E3FC;\n",
              "    }\n",
              "\n",
              "    [theme=dark] .colab-df-convert:hover {\n",
              "      background-color: #434B5C;\n",
              "      box-shadow: 0px 1px 3px 1px rgba(0, 0, 0, 0.15);\n",
              "      filter: drop-shadow(0px 1px 2px rgba(0, 0, 0, 0.3));\n",
              "      fill: #FFFFFF;\n",
              "    }\n",
              "  </style>\n",
              "\n",
              "      <script>\n",
              "        const buttonEl =\n",
              "          document.querySelector('#df-74410b25-4cd1-4d0a-90c5-212108ea57e5 button.colab-df-convert');\n",
              "        buttonEl.style.display =\n",
              "          google.colab.kernel.accessAllowed ? 'block' : 'none';\n",
              "\n",
              "        async function convertToInteractive(key) {\n",
              "          const element = document.querySelector('#df-74410b25-4cd1-4d0a-90c5-212108ea57e5');\n",
              "          const dataTable =\n",
              "            await google.colab.kernel.invokeFunction('convertToInteractive',\n",
              "                                                     [key], {});\n",
              "          if (!dataTable) return;\n",
              "\n",
              "          const docLinkHtml = 'Like what you see? Visit the ' +\n",
              "            '<a target=\"_blank\" href=https://colab.research.google.com/notebooks/data_table.ipynb>data table notebook</a>'\n",
              "            + ' to learn more about interactive tables.';\n",
              "          element.innerHTML = '';\n",
              "          dataTable['output_type'] = 'display_data';\n",
              "          await google.colab.output.renderOutput(dataTable, element);\n",
              "          const docLink = document.createElement('div');\n",
              "          docLink.innerHTML = docLinkHtml;\n",
              "          element.appendChild(docLink);\n",
              "        }\n",
              "      </script>\n",
              "    </div>\n",
              "  </div>\n",
              "  "
            ],
            "text/plain": [
              "              subj                                              texts\n",
              "0             News  [donald, trump, just, couldn, t, wish, all, am...\n",
              "1             News  [house, intelligence, committee, chairman, dev...\n",
              "2             News  [on, friday, ,, it, was, revealed, that, forme...\n",
              "3             News  [on, christmas, day, ,, donald, trump, announc...\n",
              "4             News  [pope, francis, used, his, annual, christmas, ...\n",
              "...            ...                                                ...\n",
              "23476  Middle-east  [21st, century, wire, says, as, 21wire, report...\n",
              "23477  Middle-east  [21st, century, wire, says, it, s, a, familiar...\n",
              "23478  Middle-east  [patrick, henningsen, 21st, century, wireremem...\n",
              "23479  Middle-east  [21st, century, wire, says, al, jazeera, ameri...\n",
              "23480  Middle-east  [21st, century, wire, says, as, 21wire, predic...\n",
              "\n",
              "[23481 rows x 2 columns]"
            ]
          },
          "metadata": {},
          "execution_count": 18
        }
      ]
    },
    {
      "cell_type": "code",
      "source": [
        "cat_mapper = {cat: n for n, cat in enumerate(df.subj.unique())}"
      ],
      "metadata": {
        "id": "e58JfiawXKaC"
      },
      "execution_count": 19,
      "outputs": []
    },
    {
      "cell_type": "code",
      "source": [
        "df.subj= df.subj.map(cat_mapper)"
      ],
      "metadata": {
        "id": "MM5qv5tLXM1j"
      },
      "execution_count": 20,
      "outputs": []
    },
    {
      "cell_type": "markdown",
      "source": [
        "Подготовим словари для датасета"
      ],
      "metadata": {
        "id": "rCwvPMkKpL-a"
      }
    },
    {
      "cell_type": "code",
      "source": [
        "vocab = Counter()\n",
        "for text in texts:\n",
        "    for token in text:\n",
        "        vocab[token] += 1"
      ],
      "metadata": {
        "id": "htv3A1YhM0Ph"
      },
      "execution_count": 21,
      "outputs": []
    },
    {
      "cell_type": "code",
      "source": [
        "tokens = set()\n",
        "for key, value in vocab.items():\n",
        "    if value > 10:\n",
        "        tokens.add(key)"
      ],
      "metadata": {
        "id": "SNgEPTeiNeVm"
      },
      "execution_count": 22,
      "outputs": []
    },
    {
      "cell_type": "code",
      "source": [
        "word2id = {'PAD':0}\n",
        "\n",
        "for word in tokens:\n",
        "    word2id[word] = len(word2id)"
      ],
      "metadata": {
        "id": "ev0JIvaJN43d"
      },
      "execution_count": 23,
      "outputs": []
    },
    {
      "cell_type": "code",
      "source": [
        "id2word = {i:word for word, i in word2id.items()}"
      ],
      "metadata": {
        "id": "pz6c-ProN8rB"
      },
      "execution_count": 24,
      "outputs": []
    },
    {
      "cell_type": "code",
      "source": [
        "!pip install -q torchmetrics"
      ],
      "metadata": {
        "colab": {
          "base_uri": "https://localhost:8080/"
        },
        "id": "Z38lnMi9XiFQ",
        "outputId": "292228b7-6ff7-4775-9679-c16d196d08b4"
      },
      "execution_count": 25,
      "outputs": [
        {
          "output_type": "stream",
          "name": "stdout",
          "text": [
            "\u001b[?25l\r\u001b[K     |█                               | 10 kB 24.6 MB/s eta 0:00:01\r\u001b[K     |██                              | 20 kB 27.6 MB/s eta 0:00:01\r\u001b[K     |███                             | 30 kB 12.1 MB/s eta 0:00:01\r\u001b[K     |████                            | 40 kB 9.1 MB/s eta 0:00:01\r\u001b[K     |█████                           | 51 kB 5.5 MB/s eta 0:00:01\r\u001b[K     |██████                          | 61 kB 5.6 MB/s eta 0:00:01\r\u001b[K     |███████                         | 71 kB 5.6 MB/s eta 0:00:01\r\u001b[K     |███████▉                        | 81 kB 6.3 MB/s eta 0:00:01\r\u001b[K     |████████▉                       | 92 kB 6.4 MB/s eta 0:00:01\r\u001b[K     |█████████▉                      | 102 kB 5.3 MB/s eta 0:00:01\r\u001b[K     |██████████▉                     | 112 kB 5.3 MB/s eta 0:00:01\r\u001b[K     |███████████▉                    | 122 kB 5.3 MB/s eta 0:00:01\r\u001b[K     |████████████▉                   | 133 kB 5.3 MB/s eta 0:00:01\r\u001b[K     |█████████████▉                  | 143 kB 5.3 MB/s eta 0:00:01\r\u001b[K     |██████████████▉                 | 153 kB 5.3 MB/s eta 0:00:01\r\u001b[K     |███████████████▊                | 163 kB 5.3 MB/s eta 0:00:01\r\u001b[K     |████████████████▊               | 174 kB 5.3 MB/s eta 0:00:01\r\u001b[K     |█████████████████▊              | 184 kB 5.3 MB/s eta 0:00:01\r\u001b[K     |██████████████████▊             | 194 kB 5.3 MB/s eta 0:00:01\r\u001b[K     |███████████████████▊            | 204 kB 5.3 MB/s eta 0:00:01\r\u001b[K     |████████████████████▊           | 215 kB 5.3 MB/s eta 0:00:01\r\u001b[K     |█████████████████████▊          | 225 kB 5.3 MB/s eta 0:00:01\r\u001b[K     |██████████████████████▋         | 235 kB 5.3 MB/s eta 0:00:01\r\u001b[K     |███████████████████████▋        | 245 kB 5.3 MB/s eta 0:00:01\r\u001b[K     |████████████████████████▋       | 256 kB 5.3 MB/s eta 0:00:01\r\u001b[K     |█████████████████████████▋      | 266 kB 5.3 MB/s eta 0:00:01\r\u001b[K     |██████████████████████████▋     | 276 kB 5.3 MB/s eta 0:00:01\r\u001b[K     |███████████████████████████▋    | 286 kB 5.3 MB/s eta 0:00:01\r\u001b[K     |████████████████████████████▋   | 296 kB 5.3 MB/s eta 0:00:01\r\u001b[K     |█████████████████████████████▋  | 307 kB 5.3 MB/s eta 0:00:01\r\u001b[K     |██████████████████████████████▌ | 317 kB 5.3 MB/s eta 0:00:01\r\u001b[K     |███████████████████████████████▌| 327 kB 5.3 MB/s eta 0:00:01\r\u001b[K     |████████████████████████████████| 332 kB 5.3 MB/s \n",
            "\u001b[?25h"
          ]
        }
      ]
    },
    {
      "cell_type": "code",
      "source": [
        "!pip install -q ipdb"
      ],
      "metadata": {
        "id": "sEBnLgDIX0vc",
        "colab": {
          "base_uri": "https://localhost:8080/"
        },
        "outputId": "486a8655-8651-499e-9413-4fb1aa9c68b9"
      },
      "execution_count": 26,
      "outputs": [
        {
          "output_type": "stream",
          "name": "stdout",
          "text": [
            "\u001b[K     |████████████████████████████████| 791 kB 5.2 MB/s \n",
            "\u001b[K     |████████████████████████████████| 374 kB 40.9 MB/s \n",
            "\u001b[?25h  Building wheel for ipdb (setup.py) ... \u001b[?25l\u001b[?25hdone\n",
            "\u001b[31mERROR: pip's dependency resolver does not currently take into account all the packages that are installed. This behaviour is the source of the following dependency conflicts.\n",
            "jupyter-console 5.2.0 requires prompt-toolkit<2.0.0,>=1.0.0, but you have prompt-toolkit 3.0.24 which is incompatible.\n",
            "google-colab 1.0.0 requires ipython~=5.5.0, but you have ipython 7.30.1 which is incompatible.\u001b[0m\n"
          ]
        }
      ]
    },
    {
      "cell_type": "code",
      "source": [
        "from sklearn.model_selection import train_test_split\n",
        "from sklearn.utils import shuffle\n",
        "import torch.nn as nn\n",
        "import torch.nn.functional as F\n",
        "from torch.utils.data import Dataset, DataLoader, RandomSampler, SequentialSampler\n",
        "from torch.nn.utils.rnn import pad_sequence\n",
        "import torch.optim as optim\n",
        "from torchmetrics import F1\n",
        "from torchmetrics.functional import f1, recall\n",
        "import ipdb"
      ],
      "metadata": {
        "id": "koNsEWjgTqnc"
      },
      "execution_count": 27,
      "outputs": []
    },
    {
      "cell_type": "code",
      "source": [
        "train_data, val_data = train_test_split(df, test_size=0.2, random_state=21, shuffle=True)"
      ],
      "metadata": {
        "id": "5kJGlj43Xf3U"
      },
      "execution_count": 28,
      "outputs": []
    },
    {
      "cell_type": "code",
      "source": [
        "DEVICE = torch.device('cuda') if torch.cuda.is_available() else torch.device('cpu')\n",
        "DEVICE"
      ],
      "metadata": {
        "colab": {
          "base_uri": "https://localhost:8080/"
        },
        "id": "iCPJRkOnWx-b",
        "outputId": "28bf04df-b59c-4c7d-81f8-82a23e9f1d0b"
      },
      "execution_count": 29,
      "outputs": [
        {
          "output_type": "execute_result",
          "data": {
            "text/plain": [
              "device(type='cuda')"
            ]
          },
          "metadata": {},
          "execution_count": 29
        }
      ]
    },
    {
      "cell_type": "code",
      "source": [
        "max_len = 1000"
      ],
      "metadata": {
        "id": "iinafNqbX05J"
      },
      "execution_count": 30,
      "outputs": []
    },
    {
      "cell_type": "markdown",
      "source": [
        "Сделаем датасет"
      ],
      "metadata": {
        "id": "wf3Iq0t9pR-R"
      }
    },
    {
      "cell_type": "code",
      "source": [
        "class NewsDataset(Dataset):\n",
        "\n",
        "    def __init__(self, dataset, word2id, DEVICE, max_len=max_len):\n",
        "        self.max_len = max_len\n",
        "        self.dataset = dataset['texts'].values\n",
        "        self.word2id = word2id\n",
        "        self.length = dataset.shape[0]\n",
        "        self.target = dataset['subj'].values\n",
        "        self.device = DEVICE\n",
        "\n",
        "    def __len__(self):\n",
        "        return self.length\n",
        "\n",
        "    def __getitem__(self, index): \n",
        "        words = self.dataset[index]\n",
        "        ids = torch.LongTensor([self.word2id[word] if word in self.word2id else self.word2id['PAD'] for word in words][:self.max_len])\n",
        "        y = [self.target[index]]\n",
        "        return ids, y\n",
        "\n",
        "    def collate_fn(self, batch): \n",
        "        ids, y = list(zip(*batch))\n",
        "        if max([len(i) for i in ids]) < self.max_len:\n",
        "            padded_ids = pad_sequence(ids, batch_first=True)\n",
        "\n",
        "        else:\n",
        "            padded_ids = torch.vstack([F.pad(torch.LongTensor(text_ids), \n",
        "                                            (0, self.max_len-len(text_ids))) for text_ids in ids])\n",
        "       \n",
        "        padded_ids = padded_ids.to(self.device)\n",
        "        y = torch.squeeze(torch.Tensor(y).long()).to(self.device)\n",
        "        return padded_ids, y"
      ],
      "metadata": {
        "id": "6G7DZ66vW334"
      },
      "execution_count": 31,
      "outputs": []
    },
    {
      "cell_type": "code",
      "source": [
        "train_dataset = NewsDataset(train_data, word2id, DEVICE)\n",
        "train_sampler = RandomSampler(train_dataset) \n",
        "train_iterator = DataLoader(train_dataset, collate_fn=train_dataset.collate_fn,sampler=train_sampler, batch_size=128)"
      ],
      "metadata": {
        "id": "7vYzDo8dX37f"
      },
      "execution_count": 32,
      "outputs": []
    },
    {
      "cell_type": "code",
      "source": [
        "val_dataset = NewsDataset(val_data, word2id, DEVICE)\n",
        "val_sampler = SequentialSampler(val_dataset)\n",
        "val_iterator = DataLoader(val_dataset, collate_fn=val_dataset.collate_fn, sampler=val_sampler, batch_size=128)"
      ],
      "metadata": {
        "id": "tbRtoCIQX_RU"
      },
      "execution_count": 34,
      "outputs": []
    },
    {
      "cell_type": "markdown",
      "source": [
        "Скачаем эмбеддинги"
      ],
      "metadata": {
        "id": "sAXPO8lNpVvW"
      }
    },
    {
      "cell_type": "code",
      "source": [
        "! wget https://s3.amazonaws.com/dl4j-distribution/GoogleNews-vectors-negative300.bin.gz"
      ],
      "metadata": {
        "colab": {
          "base_uri": "https://localhost:8080/"
        },
        "id": "wqMY41Lib-7E",
        "outputId": "b41a00f4-0b22-48d1-f9ac-2bd693ecd8fe"
      },
      "execution_count": 2,
      "outputs": [
        {
          "output_type": "stream",
          "name": "stdout",
          "text": [
            "--2021-12-29 14:58:30--  https://s3.amazonaws.com/dl4j-distribution/GoogleNews-vectors-negative300.bin.gz\n",
            "Resolving s3.amazonaws.com (s3.amazonaws.com)... 52.217.166.160\n",
            "Connecting to s3.amazonaws.com (s3.amazonaws.com)|52.217.166.160|:443... connected.\n",
            "HTTP request sent, awaiting response... 200 OK\n",
            "Length: 1647046227 (1.5G) [application/x-gzip]\n",
            "Saving to: ‘GoogleNews-vectors-negative300.bin.gz’\n",
            "\n",
            "GoogleNews-vectors- 100%[===================>]   1.53G  73.6MB/s    in 24s     \n",
            "\n",
            "2021-12-29 14:58:54 (66.8 MB/s) - ‘GoogleNews-vectors-negative300.bin.gz’ saved [1647046227/1647046227]\n",
            "\n"
          ]
        }
      ]
    },
    {
      "cell_type": "code",
      "source": [
        "from gensim import models\n",
        "\n",
        "w = models.KeyedVectors.load_word2vec_format(\n",
        "    'GoogleNews-vectors-negative300.bin.gz', binary=True)\n",
        "\n",
        "weights = np.zeros((len(word2id), 300))\n",
        "count = 0\n",
        "for word, i in word2id.items():\n",
        "    if word == 'PAD':\n",
        "        continue   \n",
        "    try:\n",
        "        weights[i] = w[word]    \n",
        "    except KeyError:\n",
        "        count += 1\n",
        "        weights[i] = np.random.normal(0,0.1,300)"
      ],
      "metadata": {
        "id": "SXEjwz10ZSLH"
      },
      "execution_count": 35,
      "outputs": []
    },
    {
      "cell_type": "markdown",
      "source": [
        "Напишем модель"
      ],
      "metadata": {
        "id": "1AMp5E3TpYl7"
      }
    },
    {
      "cell_type": "code",
      "source": [
        "class CLSTM(nn.Module):\n",
        "    \n",
        "    def __init__(self, weights, lstm_size, out_conv):\n",
        "        super().__init__()\n",
        "        self.embedding = nn.Embedding.from_pretrained(torch.Tensor(weights), freeze=False)\n",
        "        self.bigrams = nn.Conv1d(in_channels=weights.shape[1], out_channels=out_conv, kernel_size=3)\n",
        "        self.relu = nn.ReLU()\n",
        "        \n",
        "        self.LSTM = nn.LSTM(input_size=out_conv, hidden_size=lstm_size,\n",
        "                          num_layers=1, batch_first=True)\n",
        "        \n",
        "        \n",
        "        self.hidden = nn.Linear(in_features=lstm_size, out_features=6)\n",
        "        self.dropout = nn.Dropout(p=0.5)\n",
        "\n",
        "\n",
        "    def forward(self, word):\n",
        "        #batch_size x seq_len\n",
        "        embedded = self.embedding(word)\n",
        "        embedded = embedded.transpose(1,2)\n",
        "        #batch_size x n_channels x seq_length\n",
        "        feature_map_bigrams = self.relu(self.bigrams(self.dropout(embedded)))\n",
        "        #batch_size x n_channels x seq_length\n",
        "        \n",
        "        x, _ = self.LSTM(feature_map_bigrams.transpose(1, 2))\n",
        "        h_s, c_s = _[0], _[1]\n",
        "\n",
        "        logits = self.dropout(self.hidden(h_s.transpose(0, 1).squeeze()))\n",
        "        \n",
        "        return logits"
      ],
      "metadata": {
        "id": "CiCoDpk8YBef"
      },
      "execution_count": 36,
      "outputs": []
    },
    {
      "cell_type": "code",
      "source": [
        "def train(model, iterator, optimizer, criterion):\n",
        "    print(next(model.parameters()))\n",
        "\n",
        "    epoch_loss = 0 \n",
        "    model.train()  \n",
        "    for i, (texts, ys) in enumerate(iterator): \n",
        "        optimizer.zero_grad() \n",
        "        preds = model(texts)  \n",
        "        loss = criterion(preds, ys) \n",
        "        loss.backward() \n",
        "        optimizer.step()\n",
        "        epoch_loss += loss.item()\n",
        "        if not (i + 1) % int(len(iterator)/5):\n",
        "            print(f'Train loss: {epoch_loss/i}') \n",
        "    \n",
        "    print(next(model.parameters()))\n",
        "\n",
        "    return model, epoch_loss / len(iterator) "
      ],
      "metadata": {
        "id": "HS-ynp4dYhuw"
      },
      "execution_count": 37,
      "outputs": []
    },
    {
      "cell_type": "code",
      "source": [
        "def evaluate(model, iterator, criterion):\n",
        "    epoch_loss = 0\n",
        "    epoch_metric = 0\n",
        "    model.eval() \n",
        "    with torch.no_grad():\n",
        "        for i, (texts, ys) in enumerate(iterator):   \n",
        "            preds = model(texts)  # делаем предсказания на тесте\n",
        "            loss = criterion(preds, ys)   # считаем значения функции ошибки для статистики  \n",
        "            epoch_loss += loss.item()\n",
        "            batch_metric = f1(preds, ys, average='micro', num_classes=6)\n",
        "            epoch_metric += batch_metric\n",
        "\n",
        "            if not (i + 1) % int(len(iterator)/5):\n",
        "                print(f'Val loss: {epoch_loss/(i+1)}, Val f1: {epoch_metric/(i+1)}')\n",
        "\n",
        "    return model, epoch_metric / len(iterator), epoch_loss / len(iterator) "
      ],
      "metadata": {
        "id": "WwX_AD9GYuAF"
      },
      "execution_count": 38,
      "outputs": []
    },
    {
      "cell_type": "code",
      "source": [
        "def learning(n_epochs, model, optimizer, criterion):\n",
        "    for i in range(n_epochs):\n",
        "        print(f'\\nstarting Epoch {i}')\n",
        "        print('Training...')\n",
        "        model, epoch_loss = train(model, train_iterator, optimizer, criterion)\n",
        "        losses.append(epoch_loss)\n",
        "        print('\\nEvaluating on train...')\n",
        "        model, f1_on_train, _ = evaluate(model, train_iterator, criterion)\n",
        "        f1s.append(f1_on_train.cpu())\n",
        "        print('\\nEvaluating on test...')\n",
        "        model, f1_on_test, epoch_loss_on_test = evaluate(model, val_iterator, criterion)\n",
        "        losses_eval.append(epoch_loss_on_test)\n",
        "        f1s_eval.append(f1_on_test.cpu())"
      ],
      "metadata": {
        "id": "WKOFmZ4qYztc"
      },
      "execution_count": 39,
      "outputs": []
    },
    {
      "cell_type": "code",
      "source": [
        "import traceback\n",
        "import sys"
      ],
      "metadata": {
        "id": "W53A96npZDr0"
      },
      "execution_count": 40,
      "outputs": []
    },
    {
      "cell_type": "code",
      "source": [
        "del max"
      ],
      "metadata": {
        "id": "GVJCmr-VmaHc"
      },
      "execution_count": 42,
      "outputs": []
    },
    {
      "cell_type": "markdown",
      "source": [
        "Запустим!"
      ],
      "metadata": {
        "id": "DcmIsJyrpcJi"
      }
    },
    {
      "cell_type": "code",
      "source": [
        "try:\n",
        "    model = CLSTM(weights, lstm_size=150, out_conv=150)\n",
        "    optimizer = optim.RMSprop(model.parameters(), lr=0.005, weight_decay=0.001)\n",
        "    criterion = nn.CrossEntropyLoss() # \n",
        "    model = model.to(DEVICE)\n",
        "    criterion = criterion.to(DEVICE)\n",
        "\n",
        "    losses = []\n",
        "    losses_eval = []\n",
        "    f1s = []\n",
        "    f1s_eval = []\n",
        "\n",
        "    learning(5, model, optimizer, criterion)\n",
        "\n",
        "except Exception or KeyboardInterrupt:\n",
        "    traceback.print_exc()\n",
        "    del model, optimizer, criterion\n",
        "    torch.cuda.empty_cache()"
      ],
      "metadata": {
        "colab": {
          "base_uri": "https://localhost:8080/"
        },
        "id": "qUGAv6UvY2un",
        "outputId": "9b4b64ae-df03-4328-c25c-4d6748289118"
      },
      "execution_count": 43,
      "outputs": [
        {
          "output_type": "stream",
          "name": "stdout",
          "text": [
            "\n",
            "starting Epoch 0\n",
            "Training...\n",
            "Parameter containing:\n",
            "tensor([[ 0.0000,  0.0000,  0.0000,  ...,  0.0000,  0.0000,  0.0000],\n",
            "        [-0.0352,  0.3535,  0.0664,  ..., -0.2197,  0.0938, -0.0181],\n",
            "        [-0.1226, -0.1777,  0.2354,  ..., -0.2598, -0.2002, -0.0035],\n",
            "        ...,\n",
            "        [-0.1660,  0.0752,  0.0669,  ...,  0.0649, -0.1543,  0.1416],\n",
            "        [ 0.0393, -0.2773, -0.0186,  ..., -0.4180,  0.1963, -0.2295],\n",
            "        [ 0.1348,  0.2598, -0.1338,  ..., -0.1699, -0.4629, -0.0884]],\n",
            "       device='cuda:0', requires_grad=True)\n",
            "Train loss: 2.263509294816426\n",
            "Train loss: 1.9346798888423986\n",
            "Train loss: 1.8241142159284547\n",
            "Train loss: 1.7690324866253397\n",
            "Train loss: 1.7338049469722643\n",
            "Parameter containing:\n",
            "tensor([[ 1.6306e-01,  4.4648e-02,  1.8040e-01,  ..., -4.6740e-02,\n",
            "          5.5256e-02, -1.6463e-01],\n",
            "        [ 5.7199e-15,  5.6929e-07, -1.5970e-22,  ..., -4.7687e-15,\n",
            "          2.7886e-43,  2.6014e-15],\n",
            "        [-6.8804e-43, -1.1370e-21,  2.0528e-13,  ..., -2.1273e-11,\n",
            "         -1.2624e-17, -8.8097e-37],\n",
            "        ...,\n",
            "        [-1.8331e-24,  1.2612e-44,  6.6281e-43,  ...,  5.7127e-39,\n",
            "         -6.1136e-28,  8.3451e-33],\n",
            "        [-1.8809e-24, -3.0209e-10,  9.7027e-15,  ..., -2.1438e-05,\n",
            "          3.1230e-18, -5.4528e-14],\n",
            "        [-1.1918e-25,  2.1273e-11, -1.1352e-34,  ...,  4.2074e-21,\n",
            "         -1.2350e-04, -6.4600e-43]], device='cuda:0', requires_grad=True)\n",
            "\n",
            "Evaluating on train...\n",
            "Val loss: 1.4850065543733795, Val f1: 0.3976293206214905\n",
            "Val loss: 1.483043660377634, Val f1: 0.39722520112991333\n",
            "Val loss: 1.484063173162526, Val f1: 0.3987967073917389\n",
            "Val loss: 1.488058762303714, Val f1: 0.39399245381355286\n",
            "Val loss: 1.4858940214946352, Val f1: 0.3949892222881317\n",
            "\n",
            "Evaluating on test...\n",
            "Val loss: 1.5086811099733626, Val f1: 0.3984375298023224\n",
            "Val loss: 1.4909869943346297, Val f1: 0.412388414144516\n",
            "Val loss: 1.4922103541237968, Val f1: 0.3939732313156128\n",
            "Val loss: 1.4934156622205461, Val f1: 0.3964844048023224\n",
            "Val loss: 1.4937874623707363, Val f1: 0.39866071939468384\n",
            "\n",
            "starting Epoch 1\n",
            "Training...\n",
            "Parameter containing:\n",
            "tensor([[ 1.6306e-01,  4.4648e-02,  1.8040e-01,  ..., -4.6740e-02,\n",
            "          5.5256e-02, -1.6463e-01],\n",
            "        [ 5.7199e-15,  5.6929e-07, -1.5970e-22,  ..., -4.7687e-15,\n",
            "          2.7886e-43,  2.6014e-15],\n",
            "        [-6.8804e-43, -1.1370e-21,  2.0528e-13,  ..., -2.1273e-11,\n",
            "         -1.2624e-17, -8.8097e-37],\n",
            "        ...,\n",
            "        [-1.8331e-24,  1.2612e-44,  6.6281e-43,  ...,  5.7127e-39,\n",
            "         -6.1136e-28,  8.3451e-33],\n",
            "        [-1.8809e-24, -3.0209e-10,  9.7027e-15,  ..., -2.1438e-05,\n",
            "          3.1230e-18, -5.4528e-14],\n",
            "        [-1.1918e-25,  2.1273e-11, -1.1352e-34,  ...,  4.2074e-21,\n",
            "         -1.2350e-04, -6.4600e-43]], device='cuda:0', requires_grad=True)\n",
            "Train loss: 1.6439250111579895\n",
            "Train loss: 1.6203523330521166\n",
            "Train loss: 1.611263140689495\n",
            "Train loss: 1.6079299978587938\n",
            "Train loss: 1.6066719657844968\n",
            "Parameter containing:\n",
            "tensor([[ 1.6998e-01,  3.6036e-02,  1.9028e-01,  ..., -3.9180e-02,\n",
            "          4.3458e-02, -1.6476e-01],\n",
            "        [-6.8611e-05,  2.0231e-19,  1.0610e-13,  ..., -1.8396e-32,\n",
            "         -9.4901e-29, -3.4368e-05],\n",
            "        [ 1.1224e-42, -2.1221e-39, -1.2518e-33,  ...,  1.3502e-21,\n",
            "         -1.4245e-31,  5.4343e-10],\n",
            "        ...,\n",
            "        [-9.1343e-38, -1.0519e-02,  1.3683e-22,  ..., -1.5509e-21,\n",
            "          2.6344e-43, -6.0536e-43],\n",
            "        [ 1.5850e-10, -1.9084e-30, -1.0614e-04,  ..., -2.3328e-14,\n",
            "         -6.7571e-32, -6.3361e-25],\n",
            "        [ 6.4303e-14, -2.5356e-12, -5.7033e-43,  ...,  1.5177e-15,\n",
            "         -5.6620e-12,  1.2755e-15]], device='cuda:0', requires_grad=True)\n",
            "\n",
            "Evaluating on train...\n",
            "Val loss: 1.5038770560560555, Val f1: 0.37742456793785095\n",
            "Val loss: 1.509300421024191, Val f1: 0.3826777935028076\n",
            "Val loss: 1.5034344114106277, Val f1: 0.3913433849811554\n",
            "Val loss: 1.5022110867089238, Val f1: 0.3938577473163605\n",
            "Val loss: 1.5028912560693148, Val f1: 0.3955819010734558\n",
            "\n",
            "Evaluating on test...\n",
            "Val loss: 1.522815227508545, Val f1: 0.3984375298023224\n",
            "Val loss: 1.5054512023925781, Val f1: 0.412388414144516\n",
            "Val loss: 1.509238260132926, Val f1: 0.3939732313156128\n",
            "Val loss: 1.510603564126151, Val f1: 0.3964844048023224\n",
            "Val loss: 1.5107411861419677, Val f1: 0.39866071939468384\n",
            "\n",
            "starting Epoch 2\n",
            "Training...\n",
            "Parameter containing:\n",
            "tensor([[ 1.6998e-01,  3.6036e-02,  1.9028e-01,  ..., -3.9180e-02,\n",
            "          4.3458e-02, -1.6476e-01],\n",
            "        [-6.8611e-05,  2.0231e-19,  1.0610e-13,  ..., -1.8396e-32,\n",
            "         -9.4901e-29, -3.4368e-05],\n",
            "        [ 1.1224e-42, -2.1221e-39, -1.2518e-33,  ...,  1.3502e-21,\n",
            "         -1.4245e-31,  5.4343e-10],\n",
            "        ...,\n",
            "        [-9.1343e-38, -1.0519e-02,  1.3683e-22,  ..., -1.5509e-21,\n",
            "          2.6344e-43, -6.0536e-43],\n",
            "        [ 1.5850e-10, -1.9084e-30, -1.0614e-04,  ..., -2.3328e-14,\n",
            "         -6.7571e-32, -6.3361e-25],\n",
            "        [ 6.4303e-14, -2.5356e-12, -5.7033e-43,  ...,  1.5177e-15,\n",
            "         -5.6620e-12,  1.2755e-15]], device='cuda:0', requires_grad=True)\n",
            "Train loss: 1.6580567147050584\n",
            "Train loss: 1.6232594105235316\n",
            "Train loss: 1.613913286563962\n",
            "Train loss: 1.609240935159766\n",
            "Train loss: 1.6045257672667503\n",
            "Parameter containing:\n",
            "tensor([[ 1.6026e-01,  2.1055e-02,  1.8085e-01,  ..., -2.5157e-02,\n",
            "          2.6941e-02, -1.5254e-01],\n",
            "        [ 1.3899e-04,  7.9874e-44, -1.0060e-04,  ..., -1.3733e-43,\n",
            "          1.2212e-09,  1.0811e-04],\n",
            "        [ 1.0639e-23, -5.1837e-39, -2.6625e-44,  ..., -4.4001e-43,\n",
            "         -3.1165e-42, -2.4870e-05],\n",
            "        ...,\n",
            "        [ 3.2370e-43,  7.5199e-04,  1.2477e-02,  ...,  5.9019e-03,\n",
            "          4.0357e-43,  1.4712e-37],\n",
            "        [-3.2974e-03, -4.8485e-43,  1.7018e-04,  ...,  2.5735e-16,\n",
            "          1.6844e-25,  6.1517e-43],\n",
            "        [ 2.4380e-28, -3.5238e-22,  1.8307e-07,  ...,  1.8395e-12,\n",
            "         -2.3513e-13, -1.5170e-06]], device='cuda:0', requires_grad=True)\n",
            "\n",
            "Evaluating on train...\n",
            "Val loss: 1.4831911078814803, Val f1: 0.4040948152542114\n",
            "Val loss: 1.487564606913205, Val f1: 0.3966864347457886\n",
            "Val loss: 1.485566462593517, Val f1: 0.3998742699623108\n",
            "Val loss: 1.4868143139214351, Val f1: 0.39978447556495667\n",
            "Val loss: 1.4889311469834425, Val f1: 0.3956896662712097\n",
            "\n",
            "Evaluating on test...\n",
            "Val loss: 1.5071932247706823, Val f1: 0.3984375298023224\n",
            "Val loss: 1.4895170841898238, Val f1: 0.412388414144516\n",
            "Val loss: 1.4954566558202107, Val f1: 0.3943452537059784\n",
            "Val loss: 1.4959822935717446, Val f1: 0.396763414144516\n",
            "Val loss: 1.4959810052599225, Val f1: 0.3988839387893677\n",
            "\n",
            "starting Epoch 3\n",
            "Training...\n",
            "Parameter containing:\n",
            "tensor([[ 1.6026e-01,  2.1055e-02,  1.8085e-01,  ..., -2.5157e-02,\n",
            "          2.6941e-02, -1.5254e-01],\n",
            "        [ 1.3899e-04,  7.9874e-44, -1.0060e-04,  ..., -1.3733e-43,\n",
            "          1.2212e-09,  1.0811e-04],\n",
            "        [ 1.0639e-23, -5.1837e-39, -2.6625e-44,  ..., -4.4001e-43,\n",
            "         -3.1165e-42, -2.4870e-05],\n",
            "        ...,\n",
            "        [ 3.2370e-43,  7.5199e-04,  1.2477e-02,  ...,  5.9019e-03,\n",
            "          4.0357e-43,  1.4712e-37],\n",
            "        [-3.2974e-03, -4.8485e-43,  1.7018e-04,  ...,  2.5735e-16,\n",
            "          1.6844e-25,  6.1517e-43],\n",
            "        [ 2.4380e-28, -3.5238e-22,  1.8307e-07,  ...,  1.8395e-12,\n",
            "         -2.3513e-13, -1.5170e-06]], device='cuda:0', requires_grad=True)\n",
            "Train loss: 1.6580085924693517\n",
            "Train loss: 1.6272964184744316\n",
            "Train loss: 1.6124771001727083\n",
            "Train loss: 1.607345382027004\n",
            "Train loss: 1.6036750715639856\n",
            "Parameter containing:\n",
            "tensor([[ 1.2218e-01,  5.3759e-03,  1.6199e-01,  ..., -7.9119e-03,\n",
            "          4.2459e-03, -1.2632e-01],\n",
            "        [-1.2762e-03, -1.3448e-39,  4.7360e-05,  ..., -8.5651e-29,\n",
            "         -4.5975e-05, -1.5439e-03],\n",
            "        [-2.0491e-10,  5.3562e-08, -3.7415e-43,  ..., -1.6549e-42,\n",
            "          2.0784e-24,  5.5500e-03],\n",
            "        ...,\n",
            "        [-3.0593e-07, -7.4835e-04, -4.4941e-04,  ..., -1.5831e-04,\n",
            "         -5.2321e-03, -1.6345e-10],\n",
            "        [ 5.3866e-04,  2.5321e-40, -1.1272e-03,  ...,  1.3915e-41,\n",
            "         -5.0634e-26,  2.3592e-07],\n",
            "        [ 1.1006e-02,  6.9504e-43, -2.3221e-05,  ...,  1.2730e-06,\n",
            "         -1.1070e-43,  1.1790e-04]], device='cuda:0', requires_grad=True)\n",
            "\n",
            "Evaluating on train...\n",
            "Val loss: 1.4929373346526047, Val f1: 0.28394395112991333\n",
            "Val loss: 1.494221080993784, Val f1: 0.2900053858757019\n",
            "Val loss: 1.4965300217442128, Val f1: 0.28816449642181396\n",
            "Val loss: 1.4942971950974957, Val f1: 0.2922952473163605\n",
            "Val loss: 1.4943713607459232, Val f1: 0.2931034564971924\n",
            "\n",
            "Evaluating on test...\n",
            "Val loss: 1.5192492008209229, Val f1: 0.2667410969734192\n",
            "Val loss: 1.5027648551123483, Val f1: 0.2684151828289032\n",
            "Val loss: 1.5014486937295823, Val f1: 0.2879464328289032\n",
            "Val loss: 1.503597923687526, Val f1: 0.2837611734867096\n",
            "Val loss: 1.5036431925637381, Val f1: 0.2828125059604645\n",
            "\n",
            "starting Epoch 4\n",
            "Training...\n",
            "Parameter containing:\n",
            "tensor([[ 1.2218e-01,  5.3759e-03,  1.6199e-01,  ..., -7.9119e-03,\n",
            "          4.2459e-03, -1.2632e-01],\n",
            "        [-1.2762e-03, -1.3448e-39,  4.7360e-05,  ..., -8.5651e-29,\n",
            "         -4.5975e-05, -1.5439e-03],\n",
            "        [-2.0491e-10,  5.3562e-08, -3.7415e-43,  ..., -1.6549e-42,\n",
            "          2.0784e-24,  5.5500e-03],\n",
            "        ...,\n",
            "        [-3.0593e-07, -7.4835e-04, -4.4941e-04,  ..., -1.5831e-04,\n",
            "         -5.2321e-03, -1.6345e-10],\n",
            "        [ 5.3866e-04,  2.5321e-40, -1.1272e-03,  ...,  1.3915e-41,\n",
            "         -5.0634e-26,  2.3592e-07],\n",
            "        [ 1.1006e-02,  6.9504e-43, -2.3221e-05,  ...,  1.2730e-06,\n",
            "         -1.1070e-43,  1.1790e-04]], device='cuda:0', requires_grad=True)\n",
            "Train loss: 1.6550414860248566\n",
            "Train loss: 1.6217685080411142\n",
            "Train loss: 1.6116232317547465\n",
            "Train loss: 1.6083031550697657\n",
            "Train loss: 1.6065171617600653\n",
            "Parameter containing:\n",
            "tensor([[ 6.5965e-02,  2.6076e-04,  1.3028e-01,  ..., -1.3338e-04,\n",
            "          6.2952e-05, -6.6381e-02],\n",
            "        [ 1.7107e-03, -1.5663e-27, -3.8165e-03,  ...,  3.8905e-11,\n",
            "          5.7325e-03,  1.8591e-03],\n",
            "        [ 6.9474e-04, -2.4408e-03, -3.7415e-43,  ...,  2.2436e-14,\n",
            "         -1.2333e-10, -3.4623e-03],\n",
            "        ...,\n",
            "        [ 1.3501e-02,  1.5004e-03,  8.1953e-04,  ...,  1.2801e-03,\n",
            "          1.3360e-03,  2.6987e-07],\n",
            "        [-1.8791e-03,  9.7705e-17,  1.6270e-03,  ...,  2.8306e-43,\n",
            "          2.3688e-11, -6.4222e-05],\n",
            "        [-6.8969e-03,  1.4656e-08,  7.2170e-04,  ..., -2.2693e-04,\n",
            "         -4.9045e-43, -1.4631e-03]], device='cuda:0', requires_grad=True)\n",
            "\n",
            "Evaluating on train...\n",
            "Val loss: 1.477314122791948, Val f1: 0.4030172526836395\n",
            "Val loss: 1.4799720398310958, Val f1: 0.3966864347457886\n",
            "Val loss: 1.4781639904811466, Val f1: 0.39744970202445984\n",
            "Val loss: 1.4778325136365562, Val f1: 0.3956088423728943\n",
            "Val loss: 1.4797266220224314, Val f1: 0.3956896662712097\n",
            "\n",
            "Evaluating on test...\n",
            "Val loss: 1.4984910658427648, Val f1: 0.3984375298023224\n",
            "Val loss: 1.4791830011776514, Val f1: 0.412388414144516\n",
            "Val loss: 1.4857825211116247, Val f1: 0.3939732313156128\n",
            "Val loss: 1.4863570502826147, Val f1: 0.3964844048023224\n",
            "Val loss: 1.4860180105481828, Val f1: 0.39866071939468384\n"
          ]
        }
      ]
    },
    {
      "cell_type": "code",
      "source": [
        "from matplotlib import pyplot as plt"
      ],
      "metadata": {
        "id": "FEKkdoqCyD_G"
      },
      "execution_count": 45,
      "outputs": []
    },
    {
      "cell_type": "code",
      "source": [
        "plt.plot(losses)\n",
        "plt.plot(losses_eval)\n",
        "plt.title('BCE loss value')\n",
        "plt.ylabel('BCE loss')\n",
        "plt.xlabel('epoch')\n",
        "plt.legend(['train', 'val'], loc='upper right')\n",
        "plt.show()"
      ],
      "metadata": {
        "colab": {
          "base_uri": "https://localhost:8080/",
          "height": 295
        },
        "id": "x535N1_Wx9-H",
        "outputId": "870c55ef-4aa0-4275-a494-2772ee30430b"
      },
      "execution_count": 46,
      "outputs": [
        {
          "output_type": "display_data",
          "data": {
            "image/png": "[encoded data removed]",
            "text/plain": [
              "<Figure size 432x288 with 1 Axes>"
            ]
          },
          "metadata": {
            "needs_background": "light"
          }
        }
      ]
    },
    {
      "cell_type": "markdown",
      "source": [
        "ну, модель не обучается... жалко((("
      ],
      "metadata": {
        "id": "rPR379GtDe-R"
      }
    }
  ]
}